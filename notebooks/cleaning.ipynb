{
 "cells": [
  {
   "cell_type": "code",
   "execution_count": null,
   "id": "278f7d22-3fb9-4573-9342-ee74df73f143",
   "metadata": {},
   "outputs": [],
   "source": [
    "%load_ext autoreload\n",
    "%autoreload 2"
   ]
  },
  {
   "cell_type": "code",
   "execution_count": null,
   "id": "4dc2c15b-d613-4c4b-80ba-66464334f679",
   "metadata": {},
   "outputs": [],
   "source": [
    "import pandas as pd\n",
    "import numpy as np\n",
    "\n",
    "from pathlib import Path\n",
    "import math\n"
   ]
  },
  {
   "cell_type": "code",
   "execution_count": null,
   "id": "44911b19-f62c-4538-8ebb-eef8cc277597",
   "metadata": {},
   "outputs": [],
   "source": [
    "path_to_repo = Path('..').resolve()\n",
    "path_to_data = path_to_repo / 'data'"
   ]
  },
  {
   "cell_type": "code",
   "execution_count": null,
   "id": "6d4b98ed-f582-4018-92b1-ec9adf9100cd",
   "metadata": {},
   "outputs": [],
   "source": [
    "df_raw = pd.read_csv(path_to_data/'health_analysis.csv')"
   ]
  },
  {
   "cell_type": "code",
   "execution_count": null,
   "id": "f61d6719-1a40-46d2-a189-2e43d32a4d6c",
   "metadata": {},
   "outputs": [],
   "source": [
    "df_raw"
   ]
  },
  {
   "cell_type": "code",
   "execution_count": null,
   "id": "4d9ab9e1-435e-45bb-a8a3-a1ca14c904c4",
   "metadata": {},
   "outputs": [],
   "source": [
    "df_raw.describe(include = 'all').T"
   ]
  },
  {
   "cell_type": "markdown",
   "id": "060b480b-6080-4773-9f0b-19f426da9baf",
   "metadata": {},
   "source": [
    "The dataset seems to be clean already, we will now proceed to the first model tests."
   ]
  },
  {
   "cell_type": "markdown",
   "id": "fef3d34c-143d-4d70-b5fc-c843bdfb1fa3",
   "metadata": {},
   "source": [
    "We will convert the categorical values into binary values for model training. This concerns the columns, DRK_YN and Sex"
   ]
  },
  {
   "cell_type": "code",
   "execution_count": null,
   "id": "b5470988-eeec-4416-a747-33f4496aad3d",
   "metadata": {},
   "outputs": [],
   "source": [
    "sex_df = pd.get_dummies(df_raw, columns=['sex'], drop_first=True)"
   ]
  },
  {
   "cell_type": "code",
   "execution_count": null,
   "id": "3d00061a-c39d-428e-9e6c-36b1f9da6457",
   "metadata": {},
   "outputs": [],
   "source": [
    "sex_df.insert(0, \"gender_male\", sex_df[\"sex_Male\"])"
   ]
  },
  {
   "cell_type": "code",
   "execution_count": null,
   "id": "e2233a17-abec-4089-81ad-c634b6fbebd4",
   "metadata": {},
   "outputs": [],
   "source": [
    "sex_df = sex_df.drop(\"sex_Male\", axis=1)"
   ]
  },
  {
   "cell_type": "code",
   "execution_count": null,
   "id": "9d439e17-32da-4de2-94b1-bde5ede713ff",
   "metadata": {},
   "outputs": [],
   "source": [
    "clean_df = pd.get_dummies(sex_df, columns=['DRK_YN'], drop_first=True)"
   ]
  },
  {
   "cell_type": "code",
   "execution_count": null,
   "id": "06b01c33-41b1-4a5c-aaa1-f510d1ade6d2",
   "metadata": {},
   "outputs": [],
   "source": [
    "df = clean_df.rename(columns={\"DRK_YN_Y\": \"drinker\"})"
   ]
  },
  {
   "cell_type": "code",
   "execution_count": null,
   "id": "f7e796aa-00c0-48ee-ac63-c899e5575026",
   "metadata": {},
   "outputs": [],
   "source": [
    "df = df.rename(columns={\"SMK_stat_type_cd\": \"smoker\"})"
   ]
  },
  {
   "cell_type": "code",
   "execution_count": null,
   "id": "b68d45ba-ddf0-49de-8a64-63e50d9b9182",
   "metadata": {},
   "outputs": [],
   "source": [
    "df.smoker = df.smoker.astype(int)\n",
    "df.drinker = df.drinker.astype(int)"
   ]
  },
  {
   "cell_type": "code",
   "execution_count": null,
   "id": "1c28c909-1672-45ea-9e3d-8facf9555825",
   "metadata": {},
   "outputs": [],
   "source": [
    "df"
   ]
  },
  {
   "cell_type": "markdown",
   "id": "26cedb05-3bd3-4de3-9a08-bcd39f048edd",
   "metadata": {},
   "source": [
    "drinker: \n",
    "- O is a non-drinker\n",
    "- 1 is a drinker\n",
    "  \n",
    "smoker:\n",
    "- 1 is a non-smoker\n",
    "- 2 is a smoker who quit\n",
    "- 3 is still a smoker"
   ]
  },
  {
   "cell_type": "code",
   "execution_count": null,
   "id": "900ef291-0424-499a-bb2e-7823d8362b27",
   "metadata": {},
   "outputs": [],
   "source": [
    "df.to_csv(path_to_data/'clean_health.csv', index = False)"
   ]
  },
  {
   "cell_type": "code",
   "execution_count": null,
   "id": "7843b983-4d43-4cd3-a627-b1d4b2939fc8",
   "metadata": {},
   "outputs": [],
   "source": []
  }
 ],
 "metadata": {
  "kernelspec": {
   "display_name": "ml-final-project",
   "language": "python",
   "name": "python3"
  },
  "language_info": {
   "codemirror_mode": {
    "name": "ipython",
    "version": 3
   },
   "file_extension": ".py",
   "mimetype": "text/x-python",
   "name": "python",
   "nbconvert_exporter": "python",
   "pygments_lexer": "ipython3",
   "version": "3.11.9"
  }
 },
 "nbformat": 4,
 "nbformat_minor": 5
}
